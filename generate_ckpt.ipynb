{
 "cells": [
  {
   "cell_type": "code",
   "execution_count": 1,
   "metadata": {
    "collapsed": true
   },
   "outputs": [],
   "source": [
    "import torch\n",
    "from collections import OrderedDict"
   ]
  },
  {
   "cell_type": "code",
   "execution_count": 7,
   "metadata": {},
   "outputs": [],
   "source": [
    "# Transfer the format of model parameters in original paper to fit our model \n",
    "state_dict = torch.load(\"./wsd-biencoder/best_model.ckpt\")\n",
    "new_state_dict = OrderedDict()\n",
    "\n",
    "for name, value in state_dict.items():\n",
    "    if \"context_encoder\" in name:\n",
    "        new_name = name.replace(\"context_encoder.context_encoder\", \"text_encoder\")\n",
    "    if \"gloss_encoder\" in name:\n",
    "        new_name = name.replace(\"gloss_encoder.gloss_encoder\", \"gloss_encoder\")\n",
    "    new_state_dict[new_name] = value\n",
    "\n",
    "torch.save(new_state_dict, \"best_model.ckpt\")"
   ]
  }
 ],
 "metadata": {
  "kernelspec": {
   "display_name": "Python 3.8.12 64-bit ('openprompt': conda)",
   "language": "python",
   "name": "python3812jvsc74a57bd0901a63f55e4eba0603d6156fa8c9d1c8f39037db5dec7d2bb860f5a0a7241d7a"
  },
  "language_info": {
   "codemirror_mode": {
    "name": "ipython",
    "version": 3
   },
   "file_extension": ".py",
   "mimetype": "text/x-python",
   "name": "python",
   "nbconvert_exporter": "python",
   "pygments_lexer": "ipython3",
   "version": "3.8.12"
  }
 },
 "nbformat": 4,
 "nbformat_minor": 2
}
